{
 "cells": [
  {
   "cell_type": "markdown",
   "source": [
    "# Investigating population structure with PCA\n",
    "\n",
    "This notebook illustrates how to investigate population structure by running principal components analysis (PCA) using genetic variation data from Ag3. As usual this notebook is executable, click the launch icon above () to try running it for yourself.\n",
    "\n",
    "Preamble: what is population structure?\n",
    "In Ag3 we sequenced 2,784 wild-caught mosquitoes collected from 19 countries in sub-Saharan Africa. This includes mosquitoes from three known species within the Anopheles gambiae species complex. When we have a cohort of mosquitoes from different species and/or geographical locations, we would expect that not all mosquitoes are equally closely related to each other. These non-random patterns of relatedness are known as population structure.\n",
    "\n",
    "For example, we might expect that any two mosquitoes from the same species will be more closely related than two mosquitoes from different species. This will hopefully be intuitively obvious, because mosquitoes will prefer to mate with individuals of the same species, even if they live alongside mosquitoes from other species and can hybridise. This is also known as reproductive isolation.\n",
    "\n",
    "Similarly, we might expect that two mosquitoes sampled from the same location will be more closely related than two mosquitoes sampled from distant locations. This is based on the assumption that mosquitoes may travel to find a mate, but may only be willing or able to travel a certain distance. Mosquitoes may also be impeded from travelling in certain directions by natural physical barriers, such as a region of elevated terrain, or by variation in the availability of suitable habitat. These limits and barriers to movement can thus generate population structure, also known as geographical isolation.\n",
    "\n",
    "For both of these causes of population structure -- reproductive isolation and geographical isolation -- we may have some idea of what to expect based on our knowledge of previous studies, but we may be surprised.\n",
    "\n",
    "For example, the Anopheles gambiae species complex continues to be unravelled, and there may be cryptic species that we were not previously aware of (e.g., see Crawford et al. (2016) and Tennessen et al. (2020)).\n",
    "\n",
    "Also, recent studies have suggested that some malaria mosquitoes may engage in long-distance migration (Huestis et al. 2019), challenging the previous view that mosquitoes generally don't travel more than a few kilometres in their lifetimes (Service 1997). But we still don't know to what extent long-distance migration occurs, or whether the rate or range of migration varies between geographical regions and/or mosquito species. We would also like to learn more about how ecological and landscape variation affects the movement and interbreeding of mosquito populations in different regions of Africa.\n",
    "\n",
    "In short, we would like to investigate population structure, and we can use genetic variation data to do that. There are various methods for analysing population structure, but this notebook will focus on just one of these methods, principal components analysis (PCA). PCA is attractive because it is model-free, meaning that you don't need to specify any model of population structure before-hand, you can just run PCA and start exploring the results. On the other hand, interpreting PCA requires some care, which we'll expand on a little below. If you're interested in reading more deeply about using PCA for investigating population structure, Patterson et al. (2006), Novembre and Stephens (2008) and McVean (2009) are all great resources."
   ],
   "metadata": {}
  },
  {
   "cell_type": "markdown",
   "source": [
    "# Setup\n",
    "Set up the environment by installing and importing some packages."
   ],
   "metadata": {}
  },
  {
   "cell_type": "code",
   "execution_count": null,
   "source": [
    "!pip install -q \\\n",
    "    zarr==2.6.1 \\\n",
    "    fsspec==0.8.7 \\\n",
    "    gcsfs==0.7.2 \\\n",
    "    dask==2021.03.0 \\\n",
    "    xarray==0.18.0 \\\n",
    "    scikit-allel==1.3.5 \\\n",
    "    malariagen_data==0.8.0 \\\n",
    "    plotly==4.14.3"
   ],
   "outputs": [],
   "metadata": {}
  },
  {
   "cell_type": "code",
   "execution_count": null,
   "source": [
    "\n",
    "\n"
   ],
   "outputs": [],
   "metadata": {}
  },
  {
   "cell_type": "code",
   "execution_count": null,
   "source": [
    "# register a progress bar for longer-running dask computations\n",
    "# N.B., run this cell only once!\n",
    "ProgressBar().register()"
   ],
   "outputs": [],
   "metadata": {}
  },
  {
   "cell_type": "code",
   "execution_count": null,
   "source": [
    "# setup access to malariagen data in google cloud\n"
   ],
   "outputs": [],
   "metadata": {}
  }
 ],
 "metadata": {
  "orig_nbformat": 4,
  "language_info": {
   "name": "python"
  }
 },
 "nbformat": 4,
 "nbformat_minor": 2
}